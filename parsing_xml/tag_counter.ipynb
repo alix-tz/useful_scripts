{
 "cells": [
  {
   "cell_type": "markdown",
   "metadata": {},
   "source": [
    "# List tags\n",
    "\n",
    "This script reads several XML files and provides a list of all XML tag names they contains.\n",
    "\n",
    "## requirements\n",
    "\n",
    "In an environement, run :  \n",
    "`pip install bs4 lxml`"
   ]
  },
  {
   "cell_type": "code",
   "execution_count": 13,
   "metadata": {},
   "outputs": [],
   "source": [
    "# 1. imports\n",
    "\n",
    "import os\n",
    "from bs4 import BeautifulSoup"
   ]
  },
  {
   "cell_type": "code",
   "execution_count": 14,
   "metadata": {},
   "outputs": [],
   "source": [
    "# 2. constants\n",
    "\n",
    "# path to the source files (a directory)\n",
    "source = \"\"\n"
   ]
  },
  {
   "cell_type": "code",
   "execution_count": 15,
   "metadata": {},
   "outputs": [],
   "source": [
    "# 3. functions\n",
    "\n",
    "def build_filepath(filename, sourcepath=source):\n",
    "    return os.path.join(sourcepath, filename)\n",
    "\n",
    "\n",
    "def read_file(filepath):\n",
    "    with open(filepath, \"r\") as fh:\n",
    "        file_content = fh.read()\n",
    "    return file_content\n",
    "\n",
    "\n",
    "def whats_in_the_box(path):\n",
    "    content = os.listdir(path)\n",
    "    # keeping only XML files\n",
    "    content_xml = [c for c in content if c.endswith(\".xml\")]\n",
    "    print(\"removed {} non XML files\".format(len(content)-len(content_xml)))\n",
    "    print(\"got {} XML files to read\".format(len(content_xml)))\n",
    "    return content_xml\n",
    "\n",
    "\n",
    "def find_all_tags(file):\n",
    "    parsed = BeautifulSoup(file, 'xml')\n",
    "    return [tag.name for tag in parsed.find_all()]\n",
    "\n",
    "\n",
    "def build_set(list_of_tags):\n",
    "    # will build a set where every value is associated to its number of occurences\n",
    "    return dict((x,list_of_tags.count(x)) for x in set(list_of_tags))\n",
    "\n",
    "\n",
    "def merge_counts(lists_of_tags):\n",
    "    # create a set out of a list of dictionaries and their keys\n",
    "    merged = []\n",
    "    for l in lists_of_tags:\n",
    "        for k in l.keys():\n",
    "            if k not in merged:\n",
    "                merged.append(k)\n",
    "    return merged    "
   ]
  },
  {
   "cell_type": "code",
   "execution_count": 16,
   "metadata": {},
   "outputs": [
    {
     "name": "stdout",
     "output_type": "stream",
     "text": [
      "removed 0 non XML files\n",
      "got 9 XML files to read\n",
      "found 26 different tags in the files:\n",
      "['encodingDesc', 'editorialDecl', 'fileDesc', 'sourceDesc', 'lb', 'title', 'TEI', 'profileDesc', 'teiHeader', 'langUsage', 'text', 'pb', 'resp', 'publicationStmt', 'revisionDesc', 'teiCorpus', 'titleStmt', 'language', 'p', 'editor', 'change', 'body', 'name', 'projectDesc', 'respStmt', 'hi']\n",
      "\n",
      "finished.\n"
     ]
    }
   ],
   "source": [
    "# 4. execution\n",
    "\n",
    "all_tags = []\n",
    "\n",
    "files = whats_in_the_box(source)\n",
    "for file in files:\n",
    "    filepath = build_filepath(file)\n",
    "    file_content = read_file(filepath)\n",
    "    tags = find_all_tags(file_content)\n",
    "    all_tags.append(build_set(tags))\n",
    "\n",
    "#show which are the tags used in the <body> tag:\n",
    "result = merge_counts(all_tags)\n",
    "print(\"found {} different tags in the files:\".format(len(result)))\n",
    "print(result)\n",
    "\n",
    "print(\"\\nfinished.\")"
   ]
  }
 ],
 "metadata": {
  "kernelspec": {
   "display_name": "Python 3",
   "language": "python",
   "name": "python3"
  },
  "language_info": {
   "codemirror_mode": {
    "name": "ipython",
    "version": 3
   },
   "file_extension": ".py",
   "mimetype": "text/x-python",
   "name": "python",
   "nbconvert_exporter": "python",
   "pygments_lexer": "ipython3",
   "version": "3.7.3"
  }
 },
 "nbformat": 4,
 "nbformat_minor": 2
}
